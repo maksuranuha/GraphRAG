{
  "cells": [
    {
      "cell_type": "code",
      "execution_count": 11,
      "metadata": {
        "id": "WYhB2OARw_Nq"
      },
      "outputs": [],
      "source": [
        "!pip install --upgrade --quiet  langchain langchain-community langchain-groq neo4j"
      ]
    },
    {
      "cell_type": "code",
      "execution_count": null,
      "metadata": {
        "id": "OBL8Iqs4xoeh"
      },
      "outputs": [],
      "source": [
        "NEO4J_URI=\"NEO4J_URI\"\n",
        "NEO4J_USERNAME=\"NEO4J_USERNAME\"\n",
        "NEO4J_PASSWORD=\"NEO4J_PASSWORD\""
      ]
    },
    {
      "cell_type": "code",
      "execution_count": 13,
      "metadata": {
        "id": "uDS6XHgbycee"
      },
      "outputs": [],
      "source": [
        "import os\n",
        "os.environ[\"NEO4J_URI\"]=NEO4J_URI\n",
        "os.environ[\"NEO4J_USERNAME\"]=NEO4J_USERNAME\n",
        "os.environ[\"NEO4J_PASSWORD\"]=NEO4J_PASSWORD"
      ]
    },
    {
      "cell_type": "code",
      "execution_count": 14,
      "metadata": {
        "colab": {
          "base_uri": "https://localhost:8080/"
        },
        "id": "5rikUUiCymWG",
        "outputId": "acf8c6b9-0a78-41dc-8680-de0e7fbb8f85"
      },
      "outputs": [
        {
          "name": "stderr",
          "output_type": "stream",
          "text": [
            "/tmp/ipython-input-3558848663.py:2: LangChainDeprecationWarning: The class `Neo4jGraph` was deprecated in LangChain 0.3.8 and will be removed in 1.0. An updated version of the class exists in the :class:`~langchain-neo4j package and should be used instead. To use it run `pip install -U :class:`~langchain-neo4j` and import as `from :class:`~langchain_neo4j import Neo4jGraph``.\n",
            "  graph=Neo4jGraph(\n"
          ]
        }
      ],
      "source": [
        "from langchain_community.graphs import Neo4jGraph\n",
        "graph=Neo4jGraph(\n",
        "    url=NEO4J_URI,\n",
        "    username=NEO4J_USERNAME,\n",
        "    password=NEO4J_PASSWORD,\n",
        ")"
      ]
    },
    {
      "cell_type": "code",
      "execution_count": null,
      "metadata": {
        "colab": {
          "base_uri": "https://localhost:8080/"
        },
        "id": "j6Zy5Bc_y1oN",
        "outputId": "e7d2a361-0da0-434a-9b57-d3dd18a78ff4"
      },
      "outputs": [],
      "source": [
        "graph"
      ]
    },
    {
      "cell_type": "code",
      "execution_count": null,
      "metadata": {
        "id": "55sZpcz8y2dx"
      },
      "outputs": [],
      "source": [
        "groq_api_key=\"groq_api_key\""
      ]
    },
    {
      "cell_type": "code",
      "execution_count": null,
      "metadata": {
        "colab": {
          "base_uri": "https://localhost:8080/"
        },
        "id": "YtqR-fXVzxXZ",
        "outputId": "468117d7-157e-43fa-fc9b-e22b9734f8bf"
      },
      "outputs": [],
      "source": [
        "from langchain_groq import ChatGroq\n",
        "\n",
        "llm=ChatGroq(groq_api_key=groq_api_key,model_name=\"llama-3.1-8b-instant\")\n",
        "llm"
      ]
    },
    {
      "cell_type": "code",
      "execution_count": 18,
      "metadata": {
        "colab": {
          "base_uri": "https://localhost:8080/"
        },
        "id": "pRLhnDOo64sl",
        "outputId": "b22e74b4-bbab-4643-a4c7-e9ab414f4f6b"
      },
      "outputs": [
        {
          "name": "stdout",
          "output_type": "stream",
          "text": [
            "                 Fugitive                   Nationality     Wanted by  \\\n",
            "0        Viktoryia TSUNIK                       Belarus       Belarus   \n",
            "1       Adriano GIACOBONE                         Italy         Italy   \n",
            "2          Sudiman SUNOTO                     Indonesia     Indonesia   \n",
            "3  David Macdonald CARROL                        Canada        Canada   \n",
            "4           Jason HOLLAND  United Kingdom, South Africa  South Africa   \n",
            "\n",
            "                                          Wanted for  \\\n",
            "0                                       Theft, Fraud   \n",
            "1  Kidnapping, Possession of firearms and/or expl...   \n",
            "2              Illegal Logging, Environmental Crimes   \n",
            "3              Murder, Attempted Murder, Drug Crimes   \n",
            "4                                              Fraud   \n",
            "\n",
            "                        Details of reason wanted for  \\\n",
            "0                            Theft by abuse of power   \n",
            "1  Kidnapping, illegal detention and carrying of ...   \n",
            "2                                    Illegal logging   \n",
            "3  Murder, Conspiracy to murder, drug trafficking...   \n",
            "4                                              Fraud   \n",
            "\n",
            "      Country believed to be in / Country of capture  Date of Birth  \\\n",
            "0                    Angola, Europe, Russia, Ukraine         1961.0   \n",
            "1        Argentina, France, Morocco, Paraguay, Spain         1957.0   \n",
            "2                                               Asia         1962.0   \n",
            "3  Australia, Brazil, Europe, Mexico, New Zealand...         1952.0   \n",
            "4         Australia, United Kingdom, The Netherlands         1967.0   \n",
            "\n",
            "   Current Age (approx.)     Sex Status  \\\n",
            "0                   53.0  Female   Free   \n",
            "1                   57.0    Male   Free   \n",
            "2                   52.0    Male   Free   \n",
            "3                   62.0    Male   Free   \n",
            "4                   47.0    Male   Free   \n",
            "\n",
            "                                             Details  \\\n",
            "0  Founder of the \"Tsunik\" company in Vitebsk, Be...   \n",
            "1  Among a series of court judgments, GIACOBONE h...   \n",
            "2  On 11 November 2006, the Indonesian Criminal I...   \n",
            "3  CARROL is a member of the Quebec Nomads Chapte...   \n",
            "4   In 2007 HOLLAND was employed as a Financial D...   \n",
            "\n",
            "  Year of Interpol operation  \\\n",
            "0                       2012   \n",
            "1                       2014   \n",
            "2                       2014   \n",
            "3                 2012, 2010   \n",
            "4                       2010   \n",
            "\n",
            "                                              Source  \\\n",
            "0  www.interpol.int/Media/Files/Crime-areas/Fugit...   \n",
            "1  www.interpol.int/Media/Files/Crime-areas/Fugit...   \n",
            "2  www.interpol.int/Media/Files/Crime-areas/Fugit...   \n",
            "3  www.interpol.int/Media/Files/Crime-areas/Fugit...   \n",
            "4  www.interpol.int/Media/Files/Crime-areas/Fugit...   \n",
            "\n",
            "                         Interpol Red Notice Profile  \\\n",
            "0  http://www.interpol.int/notice/search/wanted/2...   \n",
            "1  http://www.interpol.int/notice/search/wanted/1...   \n",
            "2  http://www.interpol.int/notice/search/wanted/2...   \n",
            "3  http://www.interpol.int/notice/search/wanted/1...   \n",
            "4  http://www.interpol.int/notice/search/wanted/2...   \n",
            "\n",
            "                                               Image  \n",
            "0  http://www.interpol.int/var/interpol/cache/ws/...  \n",
            "1  http://www.interpol.int/var/interpol/cache/ws/...  \n",
            "2  http://www.interpol.int/var/interpol/cache/ws/...  \n",
            "3  http://www.interpol.int/var/interpol/cache/ws/...  \n",
            "4  http://www.interpol.int/var/interpol/cache/ws/...  \n",
            "                 Fugitive                   Nationality     Wanted by  \\\n",
            "0        Viktoryia TSUNIK                       Belarus       Belarus   \n",
            "1       Adriano GIACOBONE                         Italy         Italy   \n",
            "2          Sudiman SUNOTO                     Indonesia     Indonesia   \n",
            "3  David Macdonald CARROL                        Canada        Canada   \n",
            "4           Jason HOLLAND  United Kingdom, South Africa  South Africa   \n",
            "\n",
            "                                          Wanted for  \\\n",
            "0                                       Theft, Fraud   \n",
            "1  Kidnapping, Possession of firearms and/or expl...   \n",
            "2              Illegal Logging, Environmental Crimes   \n",
            "3              Murder, Attempted Murder, Drug Crimes   \n",
            "4                                              Fraud   \n",
            "\n",
            "                        Details of reason wanted for  \\\n",
            "0                            Theft by abuse of power   \n",
            "1  Kidnapping, illegal detention and carrying of ...   \n",
            "2                                    Illegal logging   \n",
            "3  Murder, Conspiracy to murder, drug trafficking...   \n",
            "4                                              Fraud   \n",
            "\n",
            "      Country believed to be in / Country of capture  Date of Birth  \\\n",
            "0                    Angola, Europe, Russia, Ukraine         1961.0   \n",
            "1        Argentina, France, Morocco, Paraguay, Spain         1957.0   \n",
            "2                                               Asia         1962.0   \n",
            "3  Australia, Brazil, Europe, Mexico, New Zealand...         1952.0   \n",
            "4         Australia, United Kingdom, The Netherlands         1967.0   \n",
            "\n",
            "   Current Age (approx.)     Sex Status  \\\n",
            "0                   53.0  Female   Free   \n",
            "1                   57.0    Male   Free   \n",
            "2                   52.0    Male   Free   \n",
            "3                   62.0    Male   Free   \n",
            "4                   47.0    Male   Free   \n",
            "\n",
            "                                             Details  \\\n",
            "0  Founder of the \"Tsunik\" company in Vitebsk, Be...   \n",
            "1  Among a series of court judgments, GIACOBONE h...   \n",
            "2  On 11 November 2006, the Indonesian Criminal I...   \n",
            "3  CARROL is a member of the Quebec Nomads Chapte...   \n",
            "4   In 2007 HOLLAND was employed as a Financial D...   \n",
            "\n",
            "  Year of Interpol operation  \\\n",
            "0                       2012   \n",
            "1                       2014   \n",
            "2                       2014   \n",
            "3                 2012, 2010   \n",
            "4                       2010   \n",
            "\n",
            "                                              Source  \\\n",
            "0  www.interpol.int/Media/Files/Crime-areas/Fugit...   \n",
            "1  www.interpol.int/Media/Files/Crime-areas/Fugit...   \n",
            "2  www.interpol.int/Media/Files/Crime-areas/Fugit...   \n",
            "3  www.interpol.int/Media/Files/Crime-areas/Fugit...   \n",
            "4  www.interpol.int/Media/Files/Crime-areas/Fugit...   \n",
            "\n",
            "                         Interpol Red Notice Profile  \\\n",
            "0  http://www.interpol.int/notice/search/wanted/2...   \n",
            "1  http://www.interpol.int/notice/search/wanted/1...   \n",
            "2  http://www.interpol.int/notice/search/wanted/2...   \n",
            "3  http://www.interpol.int/notice/search/wanted/1...   \n",
            "4  http://www.interpol.int/notice/search/wanted/2...   \n",
            "\n",
            "                                               Image  \n",
            "0  http://www.interpol.int/var/interpol/cache/ws/...  \n",
            "1  http://www.interpol.int/var/interpol/cache/ws/...  \n",
            "2  http://www.interpol.int/var/interpol/cache/ws/...  \n",
            "3  http://www.interpol.int/var/interpol/cache/ws/...  \n",
            "4  http://www.interpol.int/var/interpol/cache/ws/...  \n"
          ]
        }
      ],
      "source": [
        "import pandas as pd\n",
        "\n",
        "url = \"https://github.com/ali-ce/datasets/raw/master/Interpol-Most-Wanted/Fugitives.csv\"\n",
        "df = pd.read_csv(url)\n",
        "\n",
        "print(df.head())"
      ]
    },
    {
      "cell_type": "code",
      "execution_count": 21,
      "metadata": {
        "id": "_gACVsaDEiaQ"
      },
      "outputs": [],
      "source": [
        "from langchain_core.documents import Document"
      ]
    },
    {
      "cell_type": "code",
      "execution_count": 22,
      "metadata": {
        "id": "tMw2lopJ0XnX"
      },
      "outputs": [],
      "source": [
        "def make_story_from_csv_row(row):\n",
        "    name = row['Fugitive']\n",
        "    nationality = row['Nationality']\n",
        "    birth_year = row['Date of Birth']\n",
        "    sex = row['Sex']\n",
        "    details = row['Details']\n",
        "    wanted_for = row['Wanted for']\n",
        "    wanted_by = row['Wanted by']\n",
        "    locations = row['Country believed to be in / Country of capture']\n",
        "    status = row['Status']\n",
        "    year = row['Year of Interpol operation']\n",
        "\n",
        "    if sex == 'Male':\n",
        "        he_she = 'He'\n",
        "        him_her = 'him'\n",
        "        man_woman = 'man'\n",
        "    else:\n",
        "        he_she = 'She'\n",
        "        him_her = 'her'\n",
        "        man_woman = 'woman'\n",
        "\n",
        "    if ',' in str(nationality):\n",
        "        nationality_part = f\"with dual citizenship from {nationality}\"\n",
        "    else:\n",
        "        nationality_part = f\"{nationality} {man_woman}\"\n",
        "\n",
        "    story = f\"\"\"{name}, a {nationality_part} born in {birth_year}, is wanted by {wanted_by} for {wanted_for.lower()}. {details}\n",
        "\n",
        "{he_she} has fled and is believed to be hiding in {locations}. Despite Interpol operations targeting {him_her} in {year}, {him_her.lower()} remains {status.lower()}.\"\"\"\n",
        "    return story"
      ]
    },
    {
      "cell_type": "code",
      "execution_count": 23,
      "metadata": {
        "id": "i4PDMx5F7xGC"
      },
      "outputs": [],
      "source": [
        "documents = [Document(page_content=make_story_from_csv_row(row)) for _, row in df.iterrows()]"
      ]
    },
    {
      "cell_type": "code",
      "execution_count": 24,
      "metadata": {
        "colab": {
          "base_uri": "https://localhost:8080/"
        },
        "id": "JI9zEHrx7VR_",
        "outputId": "017d934c-6e43-4228-cd66-838f9bad3503"
      },
      "outputs": [
        {
          "name": "stdout",
          "output_type": "stream",
          "text": [
            "Created 95 document stories from the CSV!\n",
            "Sample Story 1:\n",
            "Viktoryia TSUNIK, a Belarus woman born in 1961.0, is wanted by Belarus for theft, fraud. Founder of the \"Tsunik\" company in Vitebsk, Belarus, between May and October 2005, Viktoryia TSUNIK, through forged false bills of lading sold 537,495 tons of stove fuel falsely labelled as diesel fuel, misappropriating about USD 130,000. In other similar cases, TSUNIK sold oil emulsion as stove fuel to three other companies, worth an estimated USD 15,000. TSUNIK was convicted and sentenced by Belarusian judicial authorities to serve a prison sentence. She speaks Russian and English.\n",
            "\n",
            "She has fled and is believed to be hiding in Angola, Europe, Russia, Ukraine. Despite Interpol operations targeting her in 2012, her remains free.\n",
            "\n",
            "\n",
            "Sample Story 2:\n",
            "Adriano GIACOBONE, a Italy man born in 1957.0, is wanted by Italy for kidnapping, possession of firearms and/or explosives, receiving stolen property, wounding, theft, offences against law enforcement authority, environmental crimes, fraud, resisting arrest. Among a series of court judgments, GIACOBONE has received prison sentences for the illegal discharge of toxic waste and poisoning water beds occurring from 1984-5 and from 1985-6, and for unlawfully disposing of waste in 1991.\n",
            "\n",
            "He has fled and is believed to be hiding in Argentina, France, Morocco, Paraguay, Spain. Despite Interpol operations targeting him in 2014, him remains free.\n",
            "\n",
            "\n",
            "Sample Story 3:\n",
            "Sudiman SUNOTO, a Indonesia man born in 1962.0, is wanted by Indonesia for illegal logging, environmental crimes. On 11 November 2006, the Indonesian Criminal Investigation Department discovered 2,647 logs suspected of being obtained through illegal logging activities. SUNOTO was the owners of the logs, and he was unable to produce any documents to demonstrate they were legally obtained.\n",
            "\n",
            "He has fled and is believed to be hiding in Asia. Despite Interpol operations targeting him in 2014, him remains free.\n",
            "\n",
            "\n",
            "Sample Story 4:\n",
            "David Macdonald CARROL, a Canada man born in 1952.0, is wanted by Canada for murder, attempted murder, drug crimes. CARROL is a member of the Quebec Nomads Chapter of the Hells Angels motorcycle club. He has been convicted of a number of offences in the past including assault, drug trafficking and firearms offences. The Hells Angels are a well structured criminal organization, and between 1995 and 2001 influenced the dealings of a number of organizations within the Montreal area. It was during this time that CARROL, along with two accomplices, allegedly conspired to murder members of rival motorcycle gangs Rock machines, Bandidos, Dark Cycle and Alliance. These gangs allegedly refused to obtain drug supplies from CARROL and the Hells Angels Nomads Chapter. CARROL is alleged to have been involved in the murder of 13 people and the attempted murder of 2 people. The Hells Angels have Chapters in more than 20 countries and information suggests that CARROL has frequented a number of countries including Brazil, Mexico, Australia, Europe, New Zealand, South Africa, United States and South America. Carrol speaks English and French. \n",
            "\n",
            "He has fled and is believed to be hiding in Australia, Brazil, Europe, Mexico, New Zealand, South Africa, South America, United States. Despite Interpol operations targeting him in 2012, 2010, him remains free.\n",
            "\n",
            "\n",
            "Sample Story 5:\n",
            "Jason HOLLAND, a with dual citizenship from United Kingdom, South Africa born in 1967.0, is wanted by South Africa for fraud.  In 2007 HOLLAND was employed as a Financial Director of the Sentula Mining company in South Africa. It is alleged that during 2008, HOLLAND siphoned away company money into an offshore account in Germany where HOLLAND was listed as the signatory. At around the time the accounting irregularities were discovered by the company, HOLLAND left South Africa, possibly for the United Kingdom.  HOLLAND has also been known to travel to the Netherlands and Australia. It is thought that he is currently located in one of these two countries. \n",
            "\n",
            "He has fled and is believed to be hiding in Australia, United Kingdom, The Netherlands. Despite Interpol operations targeting him in 2010, him remains free.\n",
            "\n",
            "\n"
          ]
        }
      ],
      "source": [
        "all_documents = []\n",
        "\n",
        "for _, row in df.iterrows():\n",
        "    story = make_story_from_csv_row(row)\n",
        "    all_documents.append(Document(page_content=story))\n",
        "\n",
        "print(f\"Created {len(all_documents)} document stories from the CSV!\")\n",
        "for i in range(5):\n",
        "    print(f\"Sample Story {i+1}:\\n{all_documents[i].page_content}\\n\\n\")"
      ]
    },
    {
      "cell_type": "code",
      "execution_count": 25,
      "metadata": {
        "colab": {
          "base_uri": "https://localhost:8080/"
        },
        "id": "bfB3ZaC6_NL_",
        "outputId": "9efcd7bf-b27b-4bcb-f1b6-77008ba06332"
      },
      "outputs": [
        {
          "name": "stdout",
          "output_type": "stream",
          "text": [
            "Created 20 smaller document chunks\n",
            "Sample chunk: Viktoryia TSUNIK, a Belarus woman born in 1961.0, is wanted by Belarus for theft, fraud. Founder of the \"Tsunik\" company in Vitebsk, Belarus, between ...\n"
          ]
        }
      ],
      "source": [
        "from langchain.text_splitter import RecursiveCharacterTextSplitter\n",
        "from langchain_core.documents import Document\n",
        "\n",
        "splitter = RecursiveCharacterTextSplitter(\n",
        "    chunk_size=300,\n",
        "    chunk_overlap=50\n",
        ")\n",
        "\n",
        "test_documents = all_documents[:5]\n",
        "short_documents = []\n",
        "\n",
        "for doc in test_documents:\n",
        "    chunks = splitter.split_text(doc.page_content)\n",
        "    for chunk in chunks:\n",
        "        if len(chunk.strip()) > 50:\n",
        "            short_documents.append(Document(page_content=chunk))\n",
        "\n",
        "print(f\"Created {len(short_documents)} smaller document chunks\")\n",
        "print(f\"Sample chunk: {short_documents[0].page_content[:150]}...\")"
      ]
    },
    {
      "cell_type": "code",
      "execution_count": 26,
      "metadata": {
        "id": "15mdVTt38StQ"
      },
      "outputs": [],
      "source": [
        "!pip install --upgrade --quiet langchain_experimental"
      ]
    },
    {
      "cell_type": "code",
      "execution_count": 27,
      "metadata": {
        "colab": {
          "base_uri": "https://localhost:8080/"
        },
        "id": "LDl0yAdi8NdI",
        "outputId": "ab5d5de8-4f45-4712-973f-98348f99aa99"
      },
      "outputs": [
        {
          "name": "stdout",
          "output_type": "stream",
          "text": [
            "Transformer configured with specific node and relationship types\n"
          ]
        }
      ],
      "source": [
        "from langchain_experimental.graph_transformers import LLMGraphTransformer\n",
        "llm_transformer = LLMGraphTransformer(\n",
        "    llm=llm,\n",
        "    allowed_nodes=[\"Person\", \"Location\", \"Organization\", \"Crime\"],\n",
        "    allowed_relationships=[\"WANTED_FOR\", \"HIDING_IN\", \"CITIZEN_OF\", \"WANTED_BY\"],\n",
        "    strict_mode=False\n",
        ")\n",
        "\n",
        "print(\"Transformer configured with specific node and relationship types\")"
      ]
    },
    {
      "cell_type": "code",
      "execution_count": 29,
      "metadata": {
        "colab": {
          "base_uri": "https://localhost:8080/"
        },
        "id": "h3pSzKLE2OJj",
        "outputId": "d5f18a79-a79f-43e9-a9a0-c22c980764a4"
      },
      "outputs": [
        {
          "name": "stdout",
          "output_type": "stream",
          "text": [
            "Testing with one document...\n",
            "SUCCESS! Single document worked\n",
            "Found 3 nodes and 4 relationships\n",
            "Now trying with 3 documents...\n",
            "SUCCESS! Processed 3 documents\n"
          ]
        }
      ],
      "source": [
        "print(\"Testing with one document...\")\n",
        "try:\n",
        "    test_graph = llm_transformer.convert_to_graph_documents([short_documents[0]])\n",
        "    print(\"SUCCESS! Single document worked\")\n",
        "    print(f\"Found {len(test_graph[0].nodes)} nodes and {len(test_graph[0].relationships)} relationships\")\n",
        "\n",
        "    print(\"Now trying with 3 documents...\")\n",
        "    graph_documents = llm_transformer.convert_to_graph_documents(short_documents[:3])\n",
        "    print(f\"SUCCESS! Processed {len(graph_documents)} documents\")\n",
        "\n",
        "except Exception as e:\n",
        "    print(f\"Error: {e}\")\n",
        "    print(\"Let's try a different approach...\")"
      ]
    },
    {
      "cell_type": "code",
      "execution_count": 30,
      "metadata": {
        "colab": {
          "base_uri": "https://localhost:8080/"
        },
        "id": "DvvdoA5W2fEZ",
        "outputId": "9a4f3d0a-6fde-4a1d-afef-45565afebb55"
      },
      "outputs": [
        {
          "data": {
            "text/plain": [
              "[Relationship(source=Node(id='Viktoryia Tsunik', type='Person', properties={}), target=Node(id='Belarus', type='Location', properties={}), type='CITIZEN_OF', properties={}),\n",
              " Relationship(source=Node(id='Viktoryia Tsunik', type='Person', properties={}), target=Node(id='Belarus', type='Location', properties={}), type='WANTED_BY', properties={}),\n",
              " Relationship(source=Node(id='Viktoryia Tsunik', type='Person', properties={}), target=Node(id='Tsunik', type='Organization', properties={}), type='FOUNDER_OF', properties={}),\n",
              " Relationship(source=Node(id='Viktoryia Tsunik', type='Person', properties={}), target=Node(id='Vitebsk', type='Location', properties={}), type='CITIZEN_OF', properties={}),\n",
              " Relationship(source=Node(id='Viktoryia Tsunik', type='Person', properties={}), target=Node(id='Tsunik', type='Organization', properties={}), type='FOUNDER_OF', properties={}),\n",
              " Relationship(source=Node(id='Viktoryia Tsunik', type='Person', properties={}), target=Node(id='Belarus', type='Location', properties={}), type='WANTED_FOR', properties={}),\n",
              " Relationship(source=Node(id='Viktoryia Tsunik', type='Person', properties={}), target=Node(id='Belarus', type='Location', properties={}), type='WANTED_FOR', properties={}),\n",
              " Relationship(source=Node(id='Viktoryia Tsunik', type='Person', properties={}), target=Node(id='Theft', type='Crime', properties={}), type='WANTED_FOR', properties={}),\n",
              " Relationship(source=Node(id='Viktoryia Tsunik', type='Person', properties={}), target=Node(id='Fraud', type='Crime', properties={}), type='WANTED_FOR', properties={})]"
            ]
          },
          "execution_count": 30,
          "metadata": {},
          "output_type": "execute_result"
        }
      ],
      "source": [
        "graph_documents[0].relationships"
      ]
    },
    {
      "cell_type": "code",
      "execution_count": 31,
      "metadata": {
        "colab": {
          "base_uri": "https://localhost:8080/"
        },
        "id": "UeRdr8nm7rAw",
        "outputId": "a9d51054-ccad-4ecb-82af-ff710d15e958"
      },
      "outputs": [
        {
          "data": {
            "text/plain": [
              "<langchain_community.graphs.neo4j_graph.Neo4jGraph at 0x7959e0a2db50>"
            ]
          },
          "execution_count": 31,
          "metadata": {},
          "output_type": "execute_result"
        }
      ],
      "source": [
        "graph"
      ]
    },
    {
      "cell_type": "code",
      "execution_count": 32,
      "metadata": {
        "colab": {
          "base_uri": "https://localhost:8080/"
        },
        "id": "nQm5agJA7xnH",
        "outputId": "7e3e65e5-7848-458f-ff85-6869b3269c1d"
      },
      "outputs": [
        {
          "name": "stdout",
          "output_type": "stream",
          "text": [
            "Node properties:\n",
            "Fugitive {fugitiveId: STRING, name: STRING, dateOfBirth: DATE, currentAge: INTEGER, sex: STRING, status: STRING, details: STRING, yearOfInterpolOperation: STRING, source: STRING, interpolRedNoticeProfile: STRING, image: STRING, reasonDetails: STRING}\n",
            "Country {name: STRING}\n",
            "Organization {name: STRING}\n",
            "Crime {name: STRING}\n",
            "Relationship properties:\n",
            "\n",
            "The relationships:\n",
            "(:Fugitive)-[:HAS_NATIONALITY]->(:Country)\n",
            "(:Fugitive)-[:WANTED_BY]->(:Organization)\n",
            "(:Fugitive)-[:WANTED_FOR]->(:Crime)\n",
            "(:Fugitive)-[:BELIEVED_IN_COUNTRY]->(:Country)\n"
          ]
        }
      ],
      "source": [
        "graph.refresh_schema()\n",
        "print(graph.schema)"
      ]
    },
    {
      "cell_type": "code",
      "execution_count": 33,
      "metadata": {
        "colab": {
          "base_uri": "https://localhost:8080/"
        },
        "id": "HdRx7ZUtAGsI",
        "outputId": "5a11e055-da2f-40da-d2a3-01e51a578dc9"
      },
      "outputs": [
        {
          "name": "stdout",
          "output_type": "stream",
          "text": [
            "Node types in the graph:\n",
            "  - ['Fugitive']\n",
            "  - ['Country']\n",
            "  - ['Organization']\n",
            "  - ['Crime']\n"
          ]
        }
      ],
      "source": [
        "node_types = graph.query(\"MATCH (n) RETURN DISTINCT labels(n) as node_types\")\n",
        "print(\"Node types in the graph:\")\n",
        "for record in node_types:\n",
        "    print(f\"  - {record['node_types']}\")"
      ]
    },
    {
      "cell_type": "code",
      "execution_count": 34,
      "metadata": {
        "colab": {
          "base_uri": "https://localhost:8080/"
        },
        "id": "_RhzyBV4AMBJ",
        "outputId": "2071082f-67b3-4619-d834-1e564ae076a0"
      },
      "outputs": [
        {
          "name": "stdout",
          "output_type": "stream",
          "text": [
            "\n",
            "Node counts:\n",
            "  - ['Fugitive']: 95\n",
            "  - ['Country']: 85\n",
            "  - ['Organization']: 50\n",
            "  - ['Crime']: 49\n"
          ]
        }
      ],
      "source": [
        "counts = graph.query(\"MATCH (n) RETURN labels(n) as type, count(n) as count\")\n",
        "print(\"\\nNode counts:\")\n",
        "for record in counts:\n",
        "    print(f\"  - {record['type']}: {record['count']}\")"
      ]
    },
    {
      "cell_type": "code",
      "execution_count": 38,
      "metadata": {
        "id": "tGUot6uZ8wnj"
      },
      "outputs": [],
      "source": [
        "from langchain.chains import GraphCypherQAChain\n",
        "chain = GraphCypherQAChain.from_llm(\n",
        "    llm=llm,\n",
        "    graph=graph,\n",
        "    verbose=True,\n",
        "    allow_dangerous_requests=True,  # Enables LLM to send tool calls directly (e.g., extract nodes/relationships), even if the format isn't perfectly validated. Useful for prototyping.\n",
        "    return_intermediate_steps=True\n",
        ")"
      ]
    },
    {
      "cell_type": "code",
      "execution_count": 39,
      "metadata": {
        "id": "53tukPgo9Ab9"
      },
      "outputs": [],
      "source": [
        "test_questions = [\n",
        "    \"How many fugitives are in the database?\",\n",
        "    \"Show me fugitives from the United States\",\n",
        "    \"What is the status of most fugitives?\",\n",
        "    \"How many male vs female fugitives are there?\",\n",
        "    \"Show me fugitives from Belarus\"\n",
        "]"
      ]
    },
    {
      "cell_type": "code",
      "execution_count": 40,
      "metadata": {
        "colab": {
          "base_uri": "https://localhost:8080/"
        },
        "id": "GlLAuyp_Bo2Q",
        "outputId": "17211c13-d29a-4650-983a-3d1e2d35010b"
      },
      "outputs": [
        {
          "name": "stdout",
          "output_type": "stream",
          "text": [
            "\n",
            " Test 1 \n",
            "Question: How many fugitives are in the database?\n",
            "\n",
            "\n",
            "\u001b[1m> Entering new GraphCypherQAChain chain...\u001b[0m\n",
            "Generated Cypher:\n",
            "\u001b[32;1m\u001b[1;3mMATCH (f: Fugitive) RETURN COUNT(f)\u001b[0m\n",
            "Full Context:\n",
            "\u001b[32;1m\u001b[1;3m[{'COUNT(f)': 95}]\u001b[0m\n",
            "\n",
            "\u001b[1m> Finished chain.\u001b[0m\n",
            "Generated Query: MATCH (f: Fugitive) RETURN COUNT(f)\n",
            "Database Result: [{'COUNT(f)': 95}]\n",
            "Final Answer: I don't know the answer.\n",
            "\n",
            " \n",
            "\n",
            "\n",
            " Test 2 \n",
            "Question: Show me fugitives from the United States\n",
            "\n",
            "\n",
            "\u001b[1m> Entering new GraphCypherQAChain chain...\u001b[0m\n",
            "Generated Cypher:\n",
            "\u001b[32;1m\u001b[1;3mMATCH (f: Fugitive)-[:HAS_NATIONALITY]->(c: Country) WHERE c.name = \"United States\" RETURN f\u001b[0m\n",
            "Full Context:\n",
            "\u001b[32;1m\u001b[1;3m[{'f': {'currentAge': 46, 'image': 'http://media.trb.com/media/photo/2011-06/62716675.jpg', 'fugitiveId': 'Kenneth Andrew CRAIG', 'sex': 'Male', 'name': 'Kenneth Andrew CRAIG', 'dateOfBirth': neo4j.time.Date(1968, 1, 1), 'details': 'CRAIG is wanted for the alleged indecent assault of two teenage boys in October 1998 in Florida, United States. The victims were both under 16 at the time. It is also alleged that CRAIG forced the victims to perform sexual acts that were recorded for the purpose of being used in the trade of child abuse images. CRAIG was due before the courts in 1999 but failed to turn up at his hearing and has not been seen since.  CRAIG CRAIG has previously been employed as a teacher, real estate agent and pastor and speaks English and Portuguese. In February 2010 CRAIG was known to be in Brazil. It is believed that CRAIG remains in South America, possibly Brazil or Costa Rica', 'source': 'www.interpol.int/Media/Files/Crime-areas/Fugitives/Operation-Infra-Red/Wanted-Person-Infra-Red/Kenneth-Andrew-CRAIG, http://www.usmarshals.gov/news/chron/2011/062311.htm', 'reasonDetails': 'Indecent assault on a child', 'yearOfInterpolOperation': '2010', 'status': 'Arrested'}}, {'f': {'currentAge': 45, 'interpolRedNoticeProfile': 'http://www.interpol.int/notice/search/wanted/2012-4910', 'image': 'http://www.interpol.int/var/interpol/cache/ws/2012-4910/wanted-GetPicture-56649782.jpg', 'fugitiveId': 'Bailey Martin COULTER', 'sex': 'Male', 'name': 'Bailey Martin COULTER', 'dateOfBirth': neo4j.time.Date(1969, 1, 1), 'details': 'COULTER is charged with smuggling a total of 2,721 kg of chemicals from China to Denmark along with two Danish men who were both sentenced to 12 years for their involvement in March 2012. Between February 2010 and March 2011, the three are accused of importing eight different chemicals with a view to producing MDMA. The quantity of the drugs smuggled could be used in the production of more than 16 million MDMA or ecstasy pills. ', 'source': 'www.interpol.int/Media/Files/Crime-areas/Fugitives/Operation-Infra-Red/Wanted-persons-Infra-Red-20122/COULTER-Bailey-Martin', 'reasonDetails': 'Illicit trafficking in narcotic drugs and psychotropic substances', 'yearOfInterpolOperation': '2012', 'status': 'Free'}}, {'f': {'currentAge': 30, 'interpolRedNoticeProfile': 'http://www.interpol.int/notice/search/wanted/2005-25458', 'image': 'http://www.interpol.int/var/interpol/cache/ws/2005-25458/wanted-GetPicture-53834619.jpg', 'fugitiveId': 'Christopher Ward DEININGER', 'sex': 'Male', 'name': 'Christopher Ward DEININGER', 'dateOfBirth': neo4j.time.Date(1984, 1, 1), 'details': 'Between 1997 and 2000 while employed as a babysitter, DEININGER committed multiple sexual acts on girls aged between one and eight years old. He pleaded guilty and was sentenced to 12 years probation. In 2005, DEININGER left the facility where he had been court-ordered to reside and fled the United States. He was last seen in Bern, Switzerland in May 2005 and is still believed to be in Europe. As a teenager, DEININGER created a babysitting business, marketing himself to families in his neighborhood highlighting his first aid certification and experience as a boy scout. ', 'source': 'www.interpol.int/Media/Files/Crime-areas/Fugitives/Operation-Infra-Red/Wanted-Person-Infra-Red/Christopher-Ward-DEININGER', 'reasonDetails': 'Attempted sexual assault on a child', 'yearOfInterpolOperation': '2010', 'status': 'Free'}}, {'f': {'currentAge': 43, 'image': 'http://ekstrabladet.dk/migration_catalog/article3497680.ece/image_alternates/p900/hamiltonJohn_lg', 'fugitiveId': 'John Edward HAMILTON', 'sex': 'Male', 'name': 'John Edward HAMILTON', 'dateOfBirth': neo4j.time.Date(1971, 1, 1), 'details': 'Between 1992 an 2006 it is alleged that HAMILTON sexually abused and molested five boys aged between 10 and 16 in Virginia, United States. Formerly employed as an athletic coach for baseball and basketball. HAMILTON also worked as a nanny and sales manager. It is likely that HAMILTON still has interest and involvement in sport and is known to use social networking sites. ', 'source': 'http://www.chip.de/bildergalerie/Operation-Inter-Red-Diese-26-Schwerstkriminellen-sucht-Interpol-ueber-das-Internet-Galerie_43681789.html?show=12', 'reasonDetails': 'Aggravated Sexual Battery, indecent liberties with children', 'yearOfInterpolOperation': '2010', 'status': 'Arrested'}}, {'f': {'currentAge': 53, 'interpolRedNoticeProfile': 'http://www.interpol.int/notice/search/wanted/2010-3593', 'image': 'http://www.interpol.int/var/interpol/cache/ws/2010-3593/wanted-GetPicture-54008846.jpg', 'fugitiveId': 'Frank Cornelis LEFRANDT Jr.', 'sex': 'Male', 'name': 'Frank Cornelis LEFRANDT Jr.', 'dateOfBirth': neo4j.time.Date(1961, 1, 1), 'details': 'LEFRANDT Jr is accused of sexual assaulting a 13-year-old boy in Hawaii in August 2008. The assault is alleged to have occurred whilst LEFRANDT JR was working as an independent newspaper contractor. The victim was a newspaper delivery boy. In November 2008 LEFRANDT Jr pleaded guilty to the assault, however he left the country prior to being sentenced. LEFRANDT Jr has previously been employed as a newspaper distributor, linguist, personal trainer and a pilot. He was last seen in Honolulu in November 2008. LEFRANDT Jr speaks English and Quiche, a form of Spanish and has been known to visit Guatemala, Indonesia, Mexico, Netherlands and El Salvador. ', 'source': 'www.interpol.int/Media/Files/Crime-areas/Fugitives/Operation-Infra-Red/Wanted-Person-Infra-Red/Frank-Cornelis-LEFRANDT-Jr', 'reasonDetails': 'Child Sexual Assault', 'yearOfInterpolOperation': '2010', 'status': 'Free'}}, {'f': {'currentAge': 63, 'image': 'http://upload.wikimedia.org/wikipedia/commons/9/95/Catherine_E._Greig_Mug1.jpg', 'fugitiveId': 'Catherine Elizabeth GREIG', 'sex': 'Female', 'name': 'Catherine Elizabeth GREIG', 'dateOfBirth': neo4j.time.Date(1951, 1, 1), 'details': 'Cathering Elizabeth GREIG was charged in Federal Court in April of 1997 for harbouring of federal fugitive James J. Bulger. Bulger is allegedly a major organized crime figure in the Boston, Massachusetts area. He is also one of the FBI\\'s \"Ten Most Wanted Fugitives\". The last credible sighting of GREIG and BULGER was in 2002, when they were believed to be in London, England together. GREIG is believed to still be travelling with him. ', 'source': 'http://www1.pictures.zimbio.com/pc/Catherine+Elizabeth+Greig+FBI+Arrests+James+3Gl0q9ijz7Ol.jpg', 'reasonDetails': 'Harbouring of Fugitive', 'yearOfInterpolOperation': '2010', 'status': 'Arrested'}}, {'f': {'currentAge': 53, 'interpolRedNoticeProfile': 'http://www.interpol.int/notice/search/wanted/2002-3398', 'image': 'http://www.interpol.int/var/interpol/cache/ws/2002-3398/wanted-GetPicture-52700646.jpg', 'fugitiveId': 'Robert William FISHER', 'sex': 'Male', 'name': 'Robert William FISHER', 'dateOfBirth': neo4j.time.Date(1961, 1, 1), 'details': 'Robert William Fisher is wanted for allegedly killing his wife and two young children and then blowing up the house in which they all lived in Scottsdale, Arizona in April of 2001. Fisher is physically fit and is an avid outdoorsman, hunter, and fisherman. He has a noticeable gold crown on his upper left first bicuspid tooth. He may walk with an exaggerated erect posture and his chest pushed out due to a lower back injury. Fisher is known to chew tobacco heavily. He has ties to New Mexico and Florida. Fisher is believed to be in possession of several weapons, including a high-powered rifle.', 'source': 'http://www.fbi.gov/wanted/topten/robert-william-fisher/view', 'reasonDetails': 'Crimes against life and health, crimes involving the use of weapons/explosives', 'yearOfInterpolOperation': '2011', 'status': 'Free'}}]\u001b[0m\n",
            "\n",
            "\u001b[1m> Finished chain.\u001b[0m\n",
            "Generated Query: MATCH (f: Fugitive)-[:HAS_NATIONALITY]->(c: Country) WHERE c.name = \"United States\" RETURN f\n",
            "Database Result: [{'f': {'currentAge': 46, 'image': 'http://media.trb.com/media/photo/2011-06/62716675.jpg', 'fugitiveId': 'Kenneth Andrew CRAIG', 'sex': 'Male', 'name': 'Kenneth Andrew CRAIG', 'dateOfBirth': neo4j.time.Date(1968, 1, 1), 'details': 'CRAIG is wanted for the alleged indecent assault of two teenage boys in October 1998 in Florida, United States. The victims were both under 16 at the time. It is also alleged that CRAIG forced the victims to perform sexual acts that were recorded for the purpose of being used in the trade of child abuse images. CRAIG was due before the courts in 1999 but failed to turn up at his hearing and has not been seen since.  CRAIG CRAIG has previously been employed as a teacher, real estate agent and pastor and speaks English and Portuguese. In February 2010 CRAIG was known to be in Brazil. It is believed that CRAIG remains in South America, possibly Brazil or Costa Rica', 'source': 'www.interpol.int/Media/Files/Crime-areas/Fugitives/Operation-Infra-Red/Wanted-Person-Infra-Red/Kenneth-Andrew-CRAIG, http://www.usmarshals.gov/news/chron/2011/062311.htm', 'reasonDetails': 'Indecent assault on a child', 'yearOfInterpolOperation': '2010', 'status': 'Arrested'}}, {'f': {'currentAge': 45, 'interpolRedNoticeProfile': 'http://www.interpol.int/notice/search/wanted/2012-4910', 'image': 'http://www.interpol.int/var/interpol/cache/ws/2012-4910/wanted-GetPicture-56649782.jpg', 'fugitiveId': 'Bailey Martin COULTER', 'sex': 'Male', 'name': 'Bailey Martin COULTER', 'dateOfBirth': neo4j.time.Date(1969, 1, 1), 'details': 'COULTER is charged with smuggling a total of 2,721 kg of chemicals from China to Denmark along with two Danish men who were both sentenced to 12 years for their involvement in March 2012. Between February 2010 and March 2011, the three are accused of importing eight different chemicals with a view to producing MDMA. The quantity of the drugs smuggled could be used in the production of more than 16 million MDMA or ecstasy pills. ', 'source': 'www.interpol.int/Media/Files/Crime-areas/Fugitives/Operation-Infra-Red/Wanted-persons-Infra-Red-20122/COULTER-Bailey-Martin', 'reasonDetails': 'Illicit trafficking in narcotic drugs and psychotropic substances', 'yearOfInterpolOperation': '2012', 'status': 'Free'}}, {'f': {'currentAge': 30, 'interpolRedNoticeProfile': 'http://www.interpol.int/notice/search/wanted/2005-25458', 'image': 'http://www.interpol.int/var/interpol/cache/ws/2005-25458/wanted-GetPicture-53834619.jpg', 'fugitiveId': 'Christopher Ward DEININGER', 'sex': 'Male', 'name': 'Christopher Ward DEININGER', 'dateOfBirth': neo4j.time.Date(1984, 1, 1), 'details': 'Between 1997 and 2000 while employed as a babysitter, DEININGER committed multiple sexual acts on girls aged between one and eight years old. He pleaded guilty and was sentenced to 12 years probation. In 2005, DEININGER left the facility where he had been court-ordered to reside and fled the United States. He was last seen in Bern, Switzerland in May 2005 and is still believed to be in Europe. As a teenager, DEININGER created a babysitting business, marketing himself to families in his neighborhood highlighting his first aid certification and experience as a boy scout. ', 'source': 'www.interpol.int/Media/Files/Crime-areas/Fugitives/Operation-Infra-Red/Wanted-Person-Infra-Red/Christopher-Ward-DEININGER', 'reasonDetails': 'Attempted sexual assault on a child', 'yearOfInterpolOperation': '2010', 'status': 'Free'}}, {'f': {'currentAge': 43, 'image': 'http://ekstrabladet.dk/migration_catalog/article3497680.ece/image_alternates/p900/hamiltonJohn_lg', 'fugitiveId': 'John Edward HAMILTON', 'sex': 'Male', 'name': 'John Edward HAMILTON', 'dateOfBirth': neo4j.time.Date(1971, 1, 1), 'details': 'Between 1992 an 2006 it is alleged that HAMILTON sexually abused and molested five boys aged between 10 and 16 in Virginia, United States. Formerly employed as an athletic coach for baseball and basketball. HAMILTON also worked as a nanny and sales manager. It is likely that HAMILTON still has interest and involvement in sport and is known to use social networking sites. ', 'source': 'http://www.chip.de/bildergalerie/Operation-Inter-Red-Diese-26-Schwerstkriminellen-sucht-Interpol-ueber-das-Internet-Galerie_43681789.html?show=12', 'reasonDetails': 'Aggravated Sexual Battery, indecent liberties with children', 'yearOfInterpolOperation': '2010', 'status': 'Arrested'}}, {'f': {'currentAge': 53, 'interpolRedNoticeProfile': 'http://www.interpol.int/notice/search/wanted/2010-3593', 'image': 'http://www.interpol.int/var/interpol/cache/ws/2010-3593/wanted-GetPicture-54008846.jpg', 'fugitiveId': 'Frank Cornelis LEFRANDT Jr.', 'sex': 'Male', 'name': 'Frank Cornelis LEFRANDT Jr.', 'dateOfBirth': neo4j.time.Date(1961, 1, 1), 'details': 'LEFRANDT Jr is accused of sexual assaulting a 13-year-old boy in Hawaii in August 2008. The assault is alleged to have occurred whilst LEFRANDT JR was working as an independent newspaper contractor. The victim was a newspaper delivery boy. In November 2008 LEFRANDT Jr pleaded guilty to the assault, however he left the country prior to being sentenced. LEFRANDT Jr has previously been employed as a newspaper distributor, linguist, personal trainer and a pilot. He was last seen in Honolulu in November 2008. LEFRANDT Jr speaks English and Quiche, a form of Spanish and has been known to visit Guatemala, Indonesia, Mexico, Netherlands and El Salvador. ', 'source': 'www.interpol.int/Media/Files/Crime-areas/Fugitives/Operation-Infra-Red/Wanted-Person-Infra-Red/Frank-Cornelis-LEFRANDT-Jr', 'reasonDetails': 'Child Sexual Assault', 'yearOfInterpolOperation': '2010', 'status': 'Free'}}, {'f': {'currentAge': 63, 'image': 'http://upload.wikimedia.org/wikipedia/commons/9/95/Catherine_E._Greig_Mug1.jpg', 'fugitiveId': 'Catherine Elizabeth GREIG', 'sex': 'Female', 'name': 'Catherine Elizabeth GREIG', 'dateOfBirth': neo4j.time.Date(1951, 1, 1), 'details': 'Cathering Elizabeth GREIG was charged in Federal Court in April of 1997 for harbouring of federal fugitive James J. Bulger. Bulger is allegedly a major organized crime figure in the Boston, Massachusetts area. He is also one of the FBI\\'s \"Ten Most Wanted Fugitives\". The last credible sighting of GREIG and BULGER was in 2002, when they were believed to be in London, England together. GREIG is believed to still be travelling with him. ', 'source': 'http://www1.pictures.zimbio.com/pc/Catherine+Elizabeth+Greig+FBI+Arrests+James+3Gl0q9ijz7Ol.jpg', 'reasonDetails': 'Harbouring of Fugitive', 'yearOfInterpolOperation': '2010', 'status': 'Arrested'}}, {'f': {'currentAge': 53, 'interpolRedNoticeProfile': 'http://www.interpol.int/notice/search/wanted/2002-3398', 'image': 'http://www.interpol.int/var/interpol/cache/ws/2002-3398/wanted-GetPicture-52700646.jpg', 'fugitiveId': 'Robert William FISHER', 'sex': 'Male', 'name': 'Robert William FISHER', 'dateOfBirth': neo4j.time.Date(1961, 1, 1), 'details': 'Robert William Fisher is wanted for allegedly killing his wife and two young children and then blowing up the house in which they all lived in Scottsdale, Arizona in April of 2001. Fisher is physically fit and is an avid outdoorsman, hunter, and fisherman. He has a noticeable gold crown on his upper left first bicuspid tooth. He may walk with an exaggerated erect posture and his chest pushed out due to a lower back injury. Fisher is known to chew tobacco heavily. He has ties to New Mexico and Florida. Fisher is believed to be in possession of several weapons, including a high-powered rifle.', 'source': 'http://www.fbi.gov/wanted/topten/robert-william-fisher/view', 'reasonDetails': 'Crimes against life and health, crimes involving the use of weapons/explosives', 'yearOfInterpolOperation': '2011', 'status': 'Free'}}]\n",
            "Final Answer: The fugitives from the United States are Kenneth Andrew CRAIG, Bailey Martin COULTER, Christopher Ward DEININGER, John Edward HAMILTON, Frank Cornelis LEFRANDT Jr., Catherine Elizabeth GREIG, and Robert William FISHER.\n",
            "\n",
            " \n",
            "\n",
            "\n",
            " Test 3 \n",
            "Question: What is the status of most fugitives?\n",
            "\n",
            "\n",
            "\u001b[1m> Entering new GraphCypherQAChain chain...\u001b[0m\n",
            "Generated Cypher:\n",
            "\u001b[32;1m\u001b[1;3mMATCH (f:Fugitive) RETURN f.status AS status ORDER BY COUNT(f) DESC LIMIT 1\u001b[0m\n",
            "Error: {code: Neo.ClientError.Statement.SyntaxError} {message: Cannot use aggregation in ORDER BY if there are no aggregate expressions in the preceding RETURN (line 1, column 20 (offset: 19))\n",
            "\"MATCH (f:Fugitive) RETURN f.status AS status ORDER BY COUNT(f) DESC LIMIT 1\"\n",
            "                    ^}\n",
            "\n",
            " \n",
            "\n",
            "\n",
            " Test 4 \n",
            "Question: How many male vs female fugitives are there?\n",
            "\n",
            "\n",
            "\u001b[1m> Entering new GraphCypherQAChain chain...\u001b[0m\n",
            "Generated Cypher:\n",
            "\u001b[32;1m\u001b[1;3mMATCH (f:Fugitive) RETURN f.sex AS sex, COUNT(f) AS count\u001b[0m\n",
            "Full Context:\n",
            "\u001b[32;1m\u001b[1;3m[{'sex': 'Female', 'count': 3}, {'sex': 'Male', 'count': 92}]\u001b[0m\n",
            "\n",
            "\u001b[1m> Finished chain.\u001b[0m\n",
            "Generated Query: MATCH (f:Fugitive) RETURN f.sex AS sex, COUNT(f) AS count\n",
            "Database Result: [{'sex': 'Female', 'count': 3}, {'sex': 'Male', 'count': 92}]\n",
            "Final Answer: There are 92 male fugitives and 3 female fugitives.\n",
            "\n",
            " \n",
            "\n",
            "\n",
            " Test 5 \n",
            "Question: Show me fugitives from Belarus\n",
            "\n",
            "\n",
            "\u001b[1m> Entering new GraphCypherQAChain chain...\u001b[0m\n",
            "Generated Cypher:\n",
            "\u001b[32;1m\u001b[1;3mMATCH (f:Fugitive)-[:HAS_NATIONALITY]->(c:Country) WHERE c.name = \"Belarus\" RETURN f\u001b[0m\n",
            "Full Context:\n",
            "\u001b[32;1m\u001b[1;3m[{'f': {'currentAge': 53, 'interpolRedNoticeProfile': 'http://www.interpol.int/notice/search/wanted/2009-437', 'image': 'http://www.interpol.int/var/interpol/cache/ws/2009-437/wanted-GetPicture-53787710.jpg', 'fugitiveId': 'Viktoryia TSUNIK', 'sex': 'Female', 'name': 'Viktoryia TSUNIK', 'dateOfBirth': neo4j.time.Date(1961, 1, 1), 'details': 'Founder of the \"Tsunik\" company in Vitebsk, Belarus, between May and October 2005, Viktoryia TSUNIK, through forged false bills of lading sold 537,495 tons of stove fuel falsely labelled as diesel fuel, misappropriating about USD 130,000. In other similar cases, TSUNIK sold oil emulsion as stove fuel to three other companies, worth an estimated USD 15,000. TSUNIK was convicted and sentenced by Belarusian judicial authorities to serve a prison sentence. She speaks Russian and English.', 'source': 'www.interpol.int/Media/Files/Crime-areas/Fugitives/Operation-Infra-Red/Wanted-persons-Infra-Red-20122/TSUNIK-Viktoryia', 'reasonDetails': 'Theft by abuse of power', 'yearOfInterpolOperation': '2012', 'status': 'Free'}}]\u001b[0m\n",
            "\n",
            "\u001b[1m> Finished chain.\u001b[0m\n",
            "Generated Query: MATCH (f:Fugitive)-[:HAS_NATIONALITY]->(c:Country) WHERE c.name = \"Belarus\" RETURN f\n",
            "Database Result: [{'f': {'currentAge': 53, 'interpolRedNoticeProfile': 'http://www.interpol.int/notice/search/wanted/2009-437', 'image': 'http://www.interpol.int/var/interpol/cache/ws/2009-437/wanted-GetPicture-53787710.jpg', 'fugitiveId': 'Viktoryia TSUNIK', 'sex': 'Female', 'name': 'Viktoryia TSUNIK', 'dateOfBirth': neo4j.time.Date(1961, 1, 1), 'details': 'Founder of the \"Tsunik\" company in Vitebsk, Belarus, between May and October 2005, Viktoryia TSUNIK, through forged false bills of lading sold 537,495 tons of stove fuel falsely labelled as diesel fuel, misappropriating about USD 130,000. In other similar cases, TSUNIK sold oil emulsion as stove fuel to three other companies, worth an estimated USD 15,000. TSUNIK was convicted and sentenced by Belarusian judicial authorities to serve a prison sentence. She speaks Russian and English.', 'source': 'www.interpol.int/Media/Files/Crime-areas/Fugitives/Operation-Infra-Red/Wanted-persons-Infra-Red-20122/TSUNIK-Viktoryia', 'reasonDetails': 'Theft by abuse of power', 'yearOfInterpolOperation': '2012', 'status': 'Free'}}]\n",
            "Final Answer: Viktoryia TSUNIK is a fugitive from Belarus.\n",
            "\n",
            " \n",
            "\n"
          ]
        }
      ],
      "source": [
        "for i, question in enumerate(test_questions, 1):\n",
        "    print(f\"\\n Test {i} \")\n",
        "    print(f\"Question: {question}\")\n",
        "\n",
        "    try:\n",
        "        response = chain.invoke({\"query\": question})\n",
        "        print(f\"Generated Query: {response['intermediate_steps'][0]['query']}\")\n",
        "        print(f\"Database Result: {response['intermediate_steps'][1]['context']}\")\n",
        "        print(f\"Final Answer: {response['result']}\")\n",
        "\n",
        "    except Exception as e:\n",
        "        print(f\"Error: {e}\")\n",
        "\n",
        "    print(\"\\n \\n\")"
      ]
    },
    {
      "cell_type": "code",
      "execution_count": 47,
      "metadata": {
        "colab": {
          "base_uri": "https://localhost:8080/"
        },
        "id": "l93uwRjYFkOw",
        "outputId": "d043f8f0-2ca5-43d5-f398-7dd51bc142a7"
      },
      "outputs": [
        {
          "name": "stdout",
          "output_type": "stream",
          "text": [
            "🔍 GraphJusticeQ&A\n",
            "Type 'quit' to exit\n",
            "\n",
            "You: hi\n",
            "GraphJusticeQ&A: Hi! Ask me about fugitives.\n",
            "You: Tell me everything about him Steven Douglas SKINNER \n",
            "🤖 Searching...\n",
            "Error: {code: Neo.ClientError.Statement.SyntaxError} {message: Variable `Country` not defined (line 1, column 130 (offset: 129))\n",
            "\"MATCH (f: Fugitive {name: \"Steven Douglas SKINNER\"})-[]->(:Country), (f)-[]->(:Organization), (f)-[]->(:Crime) RETURN f, COLLECT(Country.name) as nationality, COLLECT(Organization.name) as wantedBy, COLLECT(Crime.name) as wantedFor\"\n",
            "                                                                                                                                  ^}\n",
            "------------------------------\n",
            "You: Show me fugitives from the United States\n",
            "🤖 Searching...\n",
            "GraphJusticeQ&A: Kenneth Andrew CRAIG, Bailey Martin COULTER, Christopher Ward DEININGER, John Edward HAMILTON, Frank Cornelis LEFRANDT Jr., Catherine Elizabeth GREIG, Robert William FISHER are fugitives from the United States.\n",
            "(Query: Counted fugitives)\n",
            "------------------------------\n",
            "You: quit\n",
            "Goodbye!\n"
          ]
        }
      ],
      "source": [
        "def chat_with_fugitives():\n",
        "    print(\"🔍 GraphJusticeQ&A\")\n",
        "    print(\"Type 'quit' to exit\\n\")\n",
        "\n",
        "    while True:\n",
        "        question = input(\"You: \")\n",
        "\n",
        "        if question.lower() == 'quit':\n",
        "            print(\"Goodbye!\")\n",
        "            break\n",
        "\n",
        "        if question.strip() == \"\":\n",
        "            continue\n",
        "\n",
        "        if question.lower() in ['hi', 'hello', 'hey']:\n",
        "            print(\"GraphJusticeQ&A: Hi! Ask me about fugitives.\")\n",
        "            continue\n",
        "\n",
        "        try:\n",
        "            print(\"🤖 Searching...\")\n",
        "            response = chain.invoke({\"query\": question})\n",
        "            print(f\"GraphJusticeQ&A: {response['result']}\")\n",
        "            if response.get('intermediate_steps'):\n",
        "                query = response['intermediate_steps'][0]['query']\n",
        "                simple_explanation = explain_query(query)\n",
        "                print(f\"(Query: {simple_explanation})\")\n",
        "\n",
        "        except Exception as e:\n",
        "            print(f\"Error: {e}\")\n",
        "\n",
        "        print(\"-\" * 30)\n",
        "\n",
        "def explain_query(query):\n",
        "    query = query.lower()\n",
        "\n",
        "    if \"count\" in query:\n",
        "        return \"Counted fugitives\"\n",
        "    elif \"wanted_by\" in query:\n",
        "        return \"Found most wanted\"\n",
        "    elif \"deceased\" in query:\n",
        "        return \"Searched deceased status\"\n",
        "    elif \"name\" in query:\n",
        "        return \"Looked up by name\"\n",
        "    elif \"nationality\" in query:\n",
        "        return \"Searched nationality\"\n",
        "    elif \"crime\" in query:\n",
        "        return \"Searched crimes\"\n",
        "    else:\n",
        "        return \"Searched database\"\n",
        "\n",
        "chat_with_fugitives()"
      ]
    }
  ],
  "metadata": {
    "accelerator": "GPU",
    "colab": {
      "gpuType": "T4",
      "provenance": []
    },
    "kernelspec": {
      "display_name": "Python 3",
      "name": "python3"
    },
    "language_info": {
      "name": "python"
    }
  },
  "nbformat": 4,
  "nbformat_minor": 0
}
